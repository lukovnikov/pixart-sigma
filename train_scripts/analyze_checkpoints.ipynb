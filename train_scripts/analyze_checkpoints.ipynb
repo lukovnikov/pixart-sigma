{
 "cells": [
  {
   "cell_type": "code",
   "execution_count": null,
   "metadata": {},
   "outputs": [],
   "source": [
    "import torch\n",
    "from diffusers import PixArtSigmaPipeline, PixArtAlphaPipeline\n",
    "from pathlib import Path\n",
    "import json\n",
    "from diffusers.utils import make_image_grid"
   ]
  },
  {
   "cell_type": "code",
   "execution_count": null,
   "metadata": {},
   "outputs": [],
   "source": [
    "# iterate over checkpoints\n",
    "MODELDIR = \"pixart-fulltune_pixelart\"\n",
    "path = Path(MODELDIR)\n",
    "print(path.exists())\n",
    "\n",
    "prompts = [\"a portrait of a woman\", \"a portrait of a woman in pixelart style\", \"a portrait of a man\", \"a photo of a corgi dog\", \"an image of a husky\"]\n",
    "\n",
    "ROOTNAME = \"PixArt-alpha/PixArt-Sigma-XL-2-1024-MS\""
   ]
  },
  {
   "cell_type": "code",
   "execution_count": null,
   "metadata": {},
   "outputs": [],
   "source": [
    "grids = []\n",
    "ckptdirs = list(path.glob(\"dit-*\"))\n",
    "for ckptpath in sorted(ckptdirs, key=lambda x: int(x.name[len(\"dit-\"):])):\n",
    "    print(ckptpath)\n",
    "    pipeline = PixArtSigmaPipeline.from_pretrained(ROOTNAME).to(torch.device(\"cuda\", 3))\n",
    "    # load unet from checkpoint\n",
    "    pipeline.transformer = pipeline.transformer.from_pretrained(ckptpath).to(pipeline.device)\n",
    "    \n",
    "    promptimages = []\n",
    "    for prompt in prompts:\n",
    "        image = pipeline(prompt).images[0]\n",
    "        promptimages.append(image)\n",
    "    grid = make_image_grid(promptimages, 1, len(promptimages))\n",
    "    grids.append(grid)\n",
    "        \n",
    "    display(grid)"
   ]
  },
  {
   "cell_type": "code",
   "execution_count": null,
   "metadata": {},
   "outputs": [],
   "source": [
    "display(make_image_grid(grids, len(grids), 1))\n"
   ]
  },
  {
   "cell_type": "code",
   "execution_count": null,
   "metadata": {},
   "outputs": [],
   "source": []
  }
 ],
 "metadata": {
  "kernelspec": {
   "display_name": "sd3",
   "language": "python",
   "name": "python3"
  },
  "language_info": {
   "codemirror_mode": {
    "name": "ipython",
    "version": 3
   },
   "file_extension": ".py",
   "mimetype": "text/x-python",
   "name": "python",
   "nbconvert_exporter": "python",
   "pygments_lexer": "ipython3",
   "version": "3.9.12"
  }
 },
 "nbformat": 4,
 "nbformat_minor": 2
}
