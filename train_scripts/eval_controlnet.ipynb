{
 "cells": [
  {
   "cell_type": "code",
   "execution_count": null,
   "metadata": {},
   "outputs": [],
   "source": [
    "from argparse import Namespace\n",
    "import torch\n",
    "from train_pixart_controlnet_hf import load_pretrained, load_data, masktensor_to_colorimage, make_image_grid\n",
    "import json\n",
    "from pathlib import Path\n",
    "from torchvision import transforms\n"
   ]
  },
  {
   "cell_type": "code",
   "execution_count": null,
   "metadata": {},
   "outputs": [],
   "source": [
    "EXPDIR = Path(\"/USERSPACE/lukovdg1/pixart-sigma/train_scripts/control_experiments_v2/pixart_coco_simpleadapters/\")\n",
    "pipe, tokenizer, _, args = load_pretrained(EXPDIR, device=torch.device(\"cuda:3\"))"
   ]
  },
  {
   "cell_type": "code",
   "execution_count": null,
   "metadata": {},
   "outputs": [],
   "source": [
    "ds, dl = load_data(args, tokenizer, split=\"val\")"
   ]
  },
  {
   "cell_type": "code",
   "execution_count": null,
   "metadata": {},
   "outputs": [],
   "source": [
    "pipe.device\n",
    "pipe.to(pipe.device)\n",
    "pipe.transformer.device"
   ]
  },
  {
   "cell_type": "code",
   "execution_count": null,
   "metadata": {},
   "outputs": [],
   "source": [
    "seed = 42\n",
    "maxex = 50\n",
    "device = pipe.device\n",
    "\n",
    "\n",
    "generator = torch.Generator(device=device)\n",
    "if seed is not None:\n",
    "    generator = generator.manual_seed(seed)\n",
    "images = []\n",
    "cond_images = []\n",
    "captions = []\n",
    "\n",
    "\n",
    "i = 0\n",
    "while i < maxex:\n",
    "    example = ds[i]\n",
    "    images.append(\n",
    "        pipe(example[\"captions\"][0], control_image=example[\"cond_image\"][None].to(device), num_inference_steps=20, generator=generator, height=512, width=512).images[0])\n",
    "    # cond_images.append(transforms.ToPILImage()(masktensor_to_colorimage(example[\"cond_image\"])))\n",
    "    sumimg = example[\"cond_image\"].float().sum(0, keepdims=True)\n",
    "    cond_images.append(transforms.ToPILImage()( sumimg / sumimg.max()))\n",
    "    captions.append(example[\"captions\"][0])\n",
    "    print(i, captions[-1])\n",
    "    display(make_image_grid([cond_images[-1], images[-1]], 1, 2))\n",
    "    i += 1\n",
    "    if i >= maxex:\n",
    "        break"
   ]
  },
  {
   "cell_type": "code",
   "execution_count": null,
   "metadata": {},
   "outputs": [],
   "source": [
    "for i in range(len(images)):\n",
    "    print(i)\n",
    "    print(captions[i])\n",
    "    display(make_image_grid(cond_images[i:i+1] + images[i:i+1], 1, 2))"
   ]
  },
  {
   "cell_type": "code",
   "execution_count": null,
   "metadata": {},
   "outputs": [],
   "source": []
  }
 ],
 "metadata": {
  "kernelspec": {
   "display_name": "sd3",
   "language": "python",
   "name": "python3"
  },
  "language_info": {
   "codemirror_mode": {
    "name": "ipython",
    "version": 3
   },
   "file_extension": ".py",
   "mimetype": "text/x-python",
   "name": "python",
   "nbconvert_exporter": "python",
   "pygments_lexer": "ipython3",
   "version": "3.9.12"
  }
 },
 "nbformat": 4,
 "nbformat_minor": 2
}
