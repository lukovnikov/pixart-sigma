{
 "cells": [
  {
   "cell_type": "code",
   "execution_count": null,
   "metadata": {},
   "outputs": [],
   "source": [
    "import torch\n",
    "from diffusers import PixArtSigmaPipeline, PixArtAlphaPipeline\n",
    "from pathlib import Path\n",
    "import json\n",
    "from diffusers.utils import make_image_grid"
   ]
  },
  {
   "cell_type": "code",
   "execution_count": null,
   "metadata": {},
   "outputs": [],
   "source": [
    "# iterate over checkpoints\n",
    "# MODELDIR = \"pixart-fulltune_pixelart\"\n",
    "MODELDIR = \"experiments/pixart_fulltune_animediese\"\n",
    "path = Path(MODELDIR)\n",
    "print(path.exists())\n",
    "\n",
    "# prompts = [\"a portrait of a woman\", \n",
    "#            \"a portrait of a woman in pixelart style\", \n",
    "#            \"a portrait of a man\", \n",
    "#            \"a photo of a corgi dog\", \n",
    "#            \"an image of a husky\"]\n",
    "\n",
    "prompts = [\"an anime drawing of a woman with long hair\", \n",
    "           \"anidiese a woman with long hair\", \n",
    "           \"anidiese The image features a woman with long hair\",\n",
    "        #    \"anidiese The image features a female character\",\n",
    "           \"anidiese The image features a female character with long hair.\",\n",
    "        #    \"The image features a woman with long blue hair, wearing a red christmas-style uniform. She has a red headband with deer antlers.\",\n",
    "        #    \"a woman with long blue hair, wearing a red christmas-style uniform. She has a red headband with deer antlers.\"\n",
    "            \"anidiese Husky dog.\"\n",
    "           ]\n",
    "\n",
    "ROOTNAME = \"PixArt-alpha/PixArt-Sigma-XL-2-1024-MS\""
   ]
  },
  {
   "cell_type": "code",
   "execution_count": null,
   "metadata": {},
   "outputs": [],
   "source": [
    "grids = []\n",
    "divisibleby = 1000\n",
    "size = 256\n",
    "ckptdirs = list(path.glob(\"saved-*\"))\n",
    "print(ckptdirs)\n",
    "pipeline = PixArtSigmaPipeline.from_pretrained(ROOTNAME).to(torch.device(\"cuda\", 2))\n",
    "pipeline.transformer = pipeline.transformer.from_pretrained(\"PixArt-alpha/PixArt-Sigma-XL-2-512-MS\", subfolder=\"transformer\").to(pipeline.device)\n",
    "\n",
    "promptimages = []\n",
    "for prompt in prompts:\n",
    "    image = pipeline(prompt).images[0].resize((size,size))\n",
    "    promptimages.append(image)\n",
    "grid = make_image_grid(promptimages, 1, len(promptimages))\n",
    "grids.append(grid)\n",
    "display(grid)\n",
    "\n",
    "for ckptpath in sorted(ckptdirs, key=lambda x: int(x.name[len(\"saved-\"):])):\n",
    "    number = int(ckptpath.name[len(\"saved-\"):])\n",
    "    if number % divisibleby == 0:\n",
    "        print(ckptpath)\n",
    "        # load unet from checkpoint\n",
    "        pipeline.transformer = pipeline.transformer.from_pretrained(ckptpath).to(pipeline.device)\n",
    "        \n",
    "        promptimages = []\n",
    "        for prompt in prompts:\n",
    "            image = pipeline(prompt).images[0].resize((size,size))\n",
    "            promptimages.append(image)\n",
    "        grid = make_image_grid(promptimages, 1, len(promptimages))\n",
    "        grids.append(grid)\n",
    "            \n",
    "        display(grid)"
   ]
  },
  {
   "cell_type": "code",
   "execution_count": null,
   "metadata": {},
   "outputs": [],
   "source": [
    "display(make_image_grid(grids[1:], len(grids[1:]), 1))\n"
   ]
  },
  {
   "cell_type": "code",
   "execution_count": null,
   "metadata": {},
   "outputs": [],
   "source": [
    "display(grids[0])"
   ]
  },
  {
   "cell_type": "code",
   "execution_count": null,
   "metadata": {},
   "outputs": [],
   "source": []
  }
 ],
 "metadata": {
  "kernelspec": {
   "display_name": "sd3",
   "language": "python",
   "name": "python3"
  },
  "language_info": {
   "codemirror_mode": {
    "name": "ipython",
    "version": 3
   },
   "file_extension": ".py",
   "mimetype": "text/x-python",
   "name": "python",
   "nbconvert_exporter": "python",
   "pygments_lexer": "ipython3",
   "version": "3.9.12"
  }
 },
 "nbformat": 4,
 "nbformat_minor": 2
}
